{
  "nbformat": 4,
  "nbformat_minor": 0,
  "metadata": {
    "accelerator": "GPU",
    "colab": {
      "name": "Klasifikasi Video Deepfake.ipynb",
      "provenance": [],
      "collapsed_sections": [],
      "include_colab_link": true
    },
    "kernelspec": {
      "display_name": "Python 3",
      "name": "python3"
    },
    "language_info": {
      "name": "python"
    }
  },
  "cells": [
    {
      "cell_type": "markdown",
      "metadata": {
        "id": "view-in-github",
        "colab_type": "text"
      },
      "source": [
        "<a href=\"https://colab.research.google.com/github/javid321/GitPullTest/blob/master/Klasifikasi_Video_Deepfake.ipynb\" target=\"_parent\"><img src=\"https://colab.research.google.com/assets/colab-badge.svg\" alt=\"Open In Colab\"/></a>"
      ]
    },
    {
      "cell_type": "markdown",
      "metadata": {
        "id": "nx4W_rRF7pfb"
      },
      "source": [
        "Demo Aplikasi Hasil Skripsi Javid Al Haq"
      ]
    },
    {
      "cell_type": "code",
      "metadata": {
        "id": "QpH17wWudGrl"
      },
      "source": [
        "# https://machinelearningmastery.com/how-to-perform-face-detection-with-classical-and-deep-learning-methods-in-python-with-keras/"
      ],
      "execution_count": null,
      "outputs": []
    },
    {
      "cell_type": "code",
      "metadata": {
        "colab": {
          "base_uri": "https://localhost:8080/"
        },
        "id": "Ty53GUaCFIip",
        "outputId": "3adf6e7b-7c9c-46b4-dda3-9ff46e84591d"
      },
      "source": [
        "!pip install mtcnn\n",
        "!pip show mtcnn\n",
        "\n",
        "import tensorflow as tf\n",
        "import os\n",
        "from os import listdir\n",
        "from os.path import isfile, join\n",
        "import matplotlib.pyplot as plt\n",
        "import numpy as np\n",
        "import cv2 as cv\n",
        "from collections import deque\n",
        "print(\"tf\",tf.__version__)\n",
        "import glob\n",
        "from tensorflow import keras\n",
        "from tensorflow.keras.applications.xception import preprocess_input as pix\n",
        "from tensorflow.keras.applications.resnet50 import preprocess_input as pir\n",
        "from keras.preprocessing.image import load_img\n",
        "from skimage.feature import local_binary_pattern\n",
        "import time\n",
        "from PIL import Image, ImageDraw\n",
        "from google.colab.patches import cv2_imshow\n",
        "from google.colab import drive\n",
        "\n",
        "import csv\n",
        "import datetime\n",
        "from matplotlib import pyplot\n",
        "from pathlib import Path\n",
        "from matplotlib.patches import Rectangle\n",
        "from mtcnn.mtcnn import MTCNN\n",
        "# confirm mtcnn was installed correctly\n",
        "import mtcnn\n",
        "# Import functions and libraries\n",
        "\n",
        "%matplotlib inline\n",
        "# print version\n",
        "print(mtcnn.__version__)\n",
        "from tqdm import tqdm"
      ],
      "execution_count": null,
      "outputs": [
        {
          "output_type": "stream",
          "name": "stdout",
          "text": [
            "Collecting mtcnn\n",
            "  Downloading mtcnn-0.1.1-py3-none-any.whl (2.3 MB)\n",
            "\u001b[K     |████████████████████████████████| 2.3 MB 5.3 MB/s \n",
            "\u001b[?25hRequirement already satisfied: opencv-python>=4.1.0 in /usr/local/lib/python3.7/dist-packages (from mtcnn) (4.1.2.30)\n",
            "Requirement already satisfied: keras>=2.0.0 in /usr/local/lib/python3.7/dist-packages (from mtcnn) (2.7.0)\n",
            "Requirement already satisfied: numpy>=1.14.5 in /usr/local/lib/python3.7/dist-packages (from opencv-python>=4.1.0->mtcnn) (1.19.5)\n",
            "Installing collected packages: mtcnn\n",
            "Successfully installed mtcnn-0.1.1\n",
            "Name: mtcnn\n",
            "Version: 0.1.1\n",
            "Summary: Multi-task Cascaded Convolutional Neural Networks for Face Detection, based on TensorFlow\n",
            "Home-page: http://github.com/ipazc/mtcnn\n",
            "Author: Iván de Paz Centeno\n",
            "Author-email: ipazc@unileon.es\n",
            "License: MIT\n",
            "Location: /usr/local/lib/python3.7/dist-packages\n",
            "Requires: keras, opencv-python\n",
            "Required-by: \n",
            "tf 2.7.0\n",
            "0.1.0\n"
          ]
        }
      ]
    },
    {
      "cell_type": "markdown",
      "metadata": {
        "id": "h2dpog7oXdPd"
      },
      "source": [
        "Sambungkan ke GDrive"
      ]
    },
    {
      "cell_type": "code",
      "metadata": {
        "colab": {
          "base_uri": "https://localhost:8080/"
        },
        "id": "GBFXcuzeKiX3",
        "outputId": "f79e5a15-421a-47c8-e2c4-258060a31157"
      },
      "source": [
        "from google.colab import drive\n",
        "drive._mount('/content/drive')"
      ],
      "execution_count": null,
      "outputs": [
        {
          "output_type": "stream",
          "name": "stdout",
          "text": [
            "Mounted at /content/drive\n"
          ]
        }
      ]
    },
    {
      "cell_type": "markdown",
      "metadata": {
        "id": "lVSBeDpuvsrM"
      },
      "source": [
        "Fungsi LBP"
      ]
    },
    {
      "cell_type": "code",
      "metadata": {
        "id": "IC-05kqvlFEr"
      },
      "source": [
        "def lbp_(image, n_points, radius):\n",
        "  \n",
        "    # compute the Local Binary Pattern representation\n",
        "    # of the image, and then use the LBP representation\n",
        "    # to build the histogram of patterns\n",
        "    lbp = local_binary_pattern(image, n_points, radius,  method='default')\n",
        "    return lbp"
      ],
      "execution_count": null,
      "outputs": []
    },
    {
      "cell_type": "markdown",
      "metadata": {
        "id": "1gYA2YzyvuS9"
      },
      "source": [
        "Fungsi Pemrosesan Gambar "
      ]
    },
    {
      "cell_type": "code",
      "metadata": {
        "id": "35VNAbkjKLF2"
      },
      "source": [
        "def process(imag) :\n",
        "    # settings for LBP\n",
        "    radius = 2\n",
        "    n_points = 8 * radius\n",
        "    imgg = cv.GaussianBlur(imag,(5,5),2)\n",
        "    _img = imgg\n",
        "\n",
        "    for ichannel in range(_img.shape[2]):\n",
        "       _img[:,:,ichannel] = lbp_(imgg[:,:,ichannel],n_points,radius)\n",
        "        \n",
        "    imggray = cv.cvtColor(_img, cv.COLOR_BGR2GRAY)\n",
        "    return imggray"
      ],
      "execution_count": null,
      "outputs": []
    },
    {
      "cell_type": "markdown",
      "metadata": {
        "id": "QNJ50OWBRUNq"
      },
      "source": [
        "Label"
      ]
    },
    {
      "cell_type": "code",
      "metadata": {
        "colab": {
          "base_uri": "https://localhost:8080/"
        },
        "id": "JT9Z6GAURTg3",
        "outputId": "52b006f0-4f43-4e4c-aaef-310e27f1484d"
      },
      "source": [
        "label = { 0 : \"deepfake\", 1 : \"real\"}\n",
        "print(\"Label : \", label) #label kelas"
      ],
      "execution_count": null,
      "outputs": [
        {
          "output_type": "stream",
          "name": "stdout",
          "text": [
            "Label :  {0: 'deepfake', 1: 'real'}\n"
          ]
        }
      ]
    },
    {
      "cell_type": "markdown",
      "metadata": {
        "id": "yJwa3VBDI_a6"
      },
      "source": [
        "Load Model"
      ]
    },
    {
      "cell_type": "code",
      "metadata": {
        "id": "k5FHsvjHHHuh"
      },
      "source": [
        "load_model = tf.keras.models.load_model('drive/My Drive/model/_Xception20E_FA2.h5') # load model dari Google Drive"
      ],
      "execution_count": null,
      "outputs": []
    },
    {
      "cell_type": "markdown",
      "metadata": {
        "id": "UJ0l3iHIv1nC"
      },
      "source": [
        "Preprocessing Untuk Input Model Xception"
      ]
    },
    {
      "cell_type": "code",
      "metadata": {
        "id": "48lB8mu-J2QR"
      },
      "source": [
        "def prepare(filepath):\n",
        "    img = keras.preprocessing.image.load_img(\n",
        "    filepath, target_size= (224,224))\n",
        "    img_array = keras.preprocessing.image.img_to_array(img)\n",
        "    img_array = img_array.reshape((1, img_array.shape[0], img_array.shape[1], img_array.shape[2])) \n",
        "    img_array = pix(img_array)\n",
        "    return img_array"
      ],
      "execution_count": null,
      "outputs": []
    },
    {
      "cell_type": "markdown",
      "metadata": {
        "id": "HhJ7zX2c4mju"
      },
      "source": [
        "Preprocessing Untuk Input Model ResNet-50"
      ]
    },
    {
      "cell_type": "code",
      "metadata": {
        "id": "hCcZT0fE4mj-"
      },
      "source": [
        "def preparer(filepath):\n",
        "    img = keras.preprocessing.image.load_img(\n",
        "    filepath, target_size= (224,224))\n",
        "    img_array = keras.preprocessing.image.img_to_array(img)\n",
        "    img_array = img_array.reshape((1, img_array.shape[0], img_array.shape[1], img_array.shape[2])) \n",
        "    img_array = pir(img_array)\n",
        "    return img_array"
      ],
      "execution_count": null,
      "outputs": []
    },
    {
      "cell_type": "markdown",
      "metadata": {
        "id": "jubmyZJLGUIk"
      },
      "source": [
        "Path Simpan"
      ]
    },
    {
      "cell_type": "code",
      "metadata": {
        "id": "Um6leCE7GTOf"
      },
      "source": [
        "frames_path = os.path.join(\n",
        "    \"drive/My Drive/deteksi/DeteksiF/frame\") # penyimpanan frame \n",
        "wajah_path = os.path.join(\n",
        "    \"drive/My Drive/deteksi/DeteksiF/ori\") # penyimpanan wajah \n",
        "wajah_path_pre = os.path.join(\n",
        "    \"drive/My Drive/deteksi/DeteksiF/prepro\") # penyimpanan wajah hasil preprocess\n",
        "vid_path = os.path.join(\"drive/My Drive/deteksi/video_pred\") # penyimpanan video hasil klasifikasi\n",
        "my_file = Path(\"drive/My Drive/databaru/datatesreal.csv\") # penyimpanan metadata percobaan\n",
        "my_file_ = Path(\"drive/My Drive/databaru/datatesreal.csv\") # penyimpanan metadata percobaan"
      ],
      "execution_count": null,
      "outputs": []
    },
    {
      "cell_type": "markdown",
      "metadata": {
        "id": "9mf7dg75w60t"
      },
      "source": [
        "Fungsi Klasifikasi 1 Video"
      ]
    },
    {
      "cell_type": "code",
      "metadata": {
        "id": "3vY5r2poJLC5"
      },
      "source": [
        "def klas_vid (vid):\n",
        "      # create the detector, using default weights\n",
        "      detector = MTCNN()\n",
        "\n",
        "      x=1\n",
        "      k=1\n",
        "  \n",
        "      _video = cv.VideoCapture(vid)      \n",
        "      print('video =', vid)\n",
        "      print(\"Processing.....\")\n",
        "\n",
        "      start_time = time.time()\n",
        "      writer = None\n",
        "      filenamepre = None\n",
        "      name = os.path.basename(vid)\n",
        "      name = name.replace(name[-4:],\"\")\n",
        "      m=0\n",
        "      fps = _video.get(cv.CAP_PROP_FPS)\n",
        "      max = 0\n",
        "      maxlabel = 0.0\n",
        "      Q = deque(maxlen=3)\n",
        "      print(\"fps =\",fps)\n",
        "\n",
        "      while (_video):\n",
        "          \n",
        "          success,image = _video.read()\n",
        "\n",
        "          if (success == False):\n",
        "                if k==1 :\n",
        "                  print(\"Gagal\")\n",
        "                  break;\n",
        "                break;\n",
        "\n",
        "          count = 1\n",
        "         \n",
        "          # detect faces in the image\n",
        "          faces = detector.detect_faces(image)\n",
        "          \n",
        "          for i in faces :\n",
        "              x1, y1, w, h = i['box']\n",
        "              x2, y2 = x1 + w, y1 + h\n",
        "              if (count > 1) :\n",
        "                    break;\n",
        "                          \n",
        "              try:\n",
        "                framename = os.path.join(frames_path, \"frame_\" + str(k) + \".jpg\")\n",
        "                cv.imwrite(framename,image)\n",
        "                shape = [(x1, y1), (x2, y2)]\n",
        "                # create  rectangleimage\n",
        "                img_box = Image.open(framename)\n",
        "                img_draw = ImageDraw.Draw(img_box)  \n",
        "                img_draw.rectangle(shape, outline='red', width = 3)\n",
        "                img_box = img_box.save(framename)\n",
        "\n",
        "                image_w = cv.resize(image[y1:y2, x1:x2],\n",
        "                                  (224,224), interpolation = cv.INTER_AREA)\n",
        "                filename = os.path.join(wajah_path, \"wajah_\" + str(k) + \".jpg\")\n",
        "                cv.imwrite(filename,image_w)    \n",
        "\n",
        "                count+=1\n",
        "\n",
        "                image_w = cv.imread(filename)\n",
        "                image_pre = process(image_w)\n",
        "                filenamepre = os.path.join(\n",
        "                        wajah_path_pre, \"wajah_LBP_\" + str(k) + \".jpg\")\n",
        "                plt.imsave(filenamepre,image_pre,cmap = 'gray')\n",
        "                k +=1\n",
        "              except cv.error as e:\n",
        "                print('Invalid frame!')\n",
        "\n",
        "          imgbox_ = cv.imread(framename)\n",
        "          frame_ = imgbox_.copy()  \n",
        "          if filenamepre != None :\n",
        "              fr = os.path.basename(framename)\n",
        "              fr = fr[-5:-4]\n",
        "              pr = os.path.basename(filenamepre)\n",
        "              pr = pr[-5:-4]\n",
        "              if fr == pr :\n",
        "                data_path = filenamepre\n",
        "                prediction = load_model.predict([prepare(data_path)])\n",
        "                score = (prediction[0])\n",
        "                max = max + (100 * np.max(score))\n",
        "                m +=1\n",
        "                maxlabel = maxlabel + score\n",
        "                # draw the activity on the output frame\n",
        "                Q.append(score)\n",
        "                # perform prediction averaging over the current history of\n",
        "                # previous predictions\n",
        "                results = np.array(Q).mean(axis=0)\n",
        "                i = np.argmax(results)\n",
        "                lab_ = label[i]\n",
        "                pred = (\"{}\" .format(lab_))\n",
        "                cv.putText(frame_, pred, (35, 50), cv.FONT_HERSHEY_SIMPLEX, 1.25, (0,0,255), 5)\n",
        "          vid_name = os.path.join(vid_path, \"klsf_\"+name+\".mp4\")\n",
        "          h,w,_= image.shape\n",
        "          size = (w, h)\n",
        "          # check if the video writer is None\n",
        "          if writer is None:\n",
        "              # initialize our video writer\n",
        "              fourcc = cv.VideoWriter_fourcc(*\"MJPG\")\n",
        "              writer = cv.VideoWriter(vid_name, fourcc, fps, size, True)\n",
        "          # write the output frame to disk\n",
        "          writer.write(frame_)\n",
        "          if k == 6 :\n",
        "            break;\n",
        "      writer.release()\n",
        "      _video.release()\n",
        "      total_frame = k-1\n",
        "      waktu = time.time() - start_time\n",
        "      print(\" \")\n",
        "      print(\"total frame :\",total_frame)\n",
        "      print(\"Waktu Proses :\", waktu, \" detik\")\n",
        "      vide_name = os.path.join(vid_path, \"klsf_{}_{:.2f}%_\"\n",
        "                    .format(label[np.argmax(maxlabel/m)], max/m)+name+\".mp4\")\n",
        "      os.rename(vid_name,vide_name)\n",
        "      print(\"Disimpan :\", vide_name)\n",
        "      print('Proses Menyimpan.....')\n",
        "      for i in tqdm(range(0,140)) :\n",
        "          time.sleep(1)\n",
        "          if i == 139 :\n",
        "            print(\"\\nselesai\")"
      ],
      "execution_count": null,
      "outputs": []
    },
    {
      "cell_type": "markdown",
      "source": [
        "Fungsi Klasifikasi Banyak Video"
      ],
      "metadata": {
        "id": "E0USAIXAmE9W"
      }
    },
    {
      "cell_type": "code",
      "metadata": {
        "id": "5Mu5J_tmyB3D"
      },
      "source": [
        "def klass_vid (vid):\n",
        "      # create the detector, using default weights\n",
        "      detector = MTCNN()\n",
        "\n",
        "      x=1\n",
        "      k=1\n",
        "  \n",
        "      _video = cv.VideoCapture(vid)      \n",
        "      print('video =', vid)\n",
        "      print(\"Processing.....\")\n",
        "\n",
        "      start_time = time.time()\n",
        "      writer = None\n",
        "      filenamepre = None\n",
        "      name = os.path.basename(vid)\n",
        "      name = name.replace(name[-4:],\"\")\n",
        "      m=0\n",
        "      fps = _video.get(cv.CAP_PROP_FPS)\n",
        "      max = 0\n",
        "      maxlabel = 0.0\n",
        "      Q = deque(maxlen=3)\n",
        "      print(\"fps =\",fps)\n",
        "\n",
        "      while (_video):\n",
        "          \n",
        "          success,image = _video.read()\n",
        "\n",
        "          if (success == False):\n",
        "                if k==1 :\n",
        "                  print(\"Gagal\")\n",
        "                  break;\n",
        "                break;\n",
        "\n",
        "          count = 1\n",
        "         \n",
        "          # detect faces in the image\n",
        "          faces = detector.detect_faces(image)\n",
        "          \n",
        "          for i in faces :\n",
        "              x1, y1, w, h = i['box']\n",
        "              x2, y2 = x1 + w, y1 + h\n",
        "              if (count > 1) :\n",
        "                    break;\n",
        "                          \n",
        "              try:\n",
        "                framename = os.path.join(frames_path, \"frame_\" + str(k) + \".jpg\")\n",
        "                cv.imwrite(framename,image)\n",
        "                shape = [(x1, y1), (x2, y2)]\n",
        "                # create  rectangleimage\n",
        "                img_box = Image.open(framename)\n",
        "                img_draw = ImageDraw.Draw(img_box)  \n",
        "                img_draw.rectangle(shape, outline='red', width = 3)\n",
        "                img_box = img_box.save(framename)\n",
        "\n",
        "                image_w = cv.resize(image[y1:y2, x1:x2],\n",
        "                                  (224,224), interpolation = cv.INTER_AREA)\n",
        "                filename = os.path.join(wajah_path, \"wajah_\" + str(k) + \".jpg\")\n",
        "                cv.imwrite(filename,image_w)    \n",
        "\n",
        "                count+=1\n",
        "\n",
        "                image_w = cv.imread(filename)\n",
        "                image_pre = process(image_w)\n",
        "                filenamepre = os.path.join(\n",
        "                        wajah_path_pre, \"wajah_LBP_\" + str(k) + \".jpg\")\n",
        "                plt.imsave(filenamepre,image_pre,cmap = 'gray')\n",
        "                k +=1\n",
        "              except cv.error as e:\n",
        "                print('Invalid frame!')\n",
        "\n",
        "          imgbox_ = cv.imread(framename)\n",
        "          frame_ = imgbox_.copy()  \n",
        "          if filenamepre != None :\n",
        "              fr = os.path.basename(framename)\n",
        "              fr = fr[-5:-4]\n",
        "              pr = os.path.basename(filenamepre)\n",
        "              pr = pr[-5:-4]\n",
        "              if fr == pr :\n",
        "                data_path = filenamepre\n",
        "                prediction = load_model.predict([prepare(data_path)])\n",
        "                score = (prediction[0])\n",
        "                max = max + (100 * np.max(score))\n",
        "                m +=1\n",
        "                maxlabel = maxlabel + score\n",
        "                # draw the activity on the output frame\n",
        "                Q.append(score)\n",
        "                # perform prediction averaging over the current history of\n",
        "                # previous predictions\n",
        "                results = np.array(Q).mean(axis=0)\n",
        "                i = np.argmax(results)\n",
        "                lab_ = label[i]\n",
        "                pred = (\"{}\" .format(lab_))\n",
        "                cv.putText(frame_, pred, (35, 50), cv.FONT_HERSHEY_SIMPLEX, 1.25, (0,0,255), 5)\n",
        "          vid_name = os.path.join(vid_path, \"klsf_\"+name+\".mp4\")\n",
        "          h,w,_= image.shape\n",
        "          size = (w, h)\n",
        "          # check if the video writer is None\n",
        "          if writer is None:\n",
        "              # initialize our video writer\n",
        "              fourcc = cv.VideoWriter_fourcc(*\"MJPG\")\n",
        "              writer = cv.VideoWriter(vid_name, fourcc, fps, size, True)\n",
        "          # write the output frame to disk\n",
        "          writer.write(frame_)\n",
        "          # if k == 6 : #pembatasan jumlah frame\n",
        "          #   break;\n",
        "      writer.release()\n",
        "      _video.release()\n",
        "      total_frame = k-1\n",
        "      waktu = time.time() - start_time\n",
        "      print(\" \")\n",
        "      print(\"total frame :\",total_frame)\n",
        "      print(\"Waktu Proses :\", waktu, \" detik\")\n",
        "      vide_name = os.path.join(vid_path, \"klsf_{}_{:.2f}%_\"\n",
        "                    .format(label[np.argmax(maxlabel/m)], max/m)+name+\".mp4\")\n",
        "      os.rename(vid_name,vide_name)\n",
        "      print(\"Disimpan :\", vide_name)\n",
        "      print('Proses Menyimpan.....')\n",
        "      \n",
        "      tgl = datetime.datetime.now()\n",
        "      tgl = tgl.strftime(\"%x\")\n",
        "      print(tgl)\n",
        "\n",
        "      filename = os.path.basename(vid)\n",
        "      simpanname = os.path.basename(vide_name)\n",
        "      simpanname = simpanname.replace(filename,\"\")\n",
        "      simpanname = simpanname.replace(\"klsf_\",\"\")\n",
        "      with open('drive/My Drive/databaru/datatesreal.csv', 'a', newline = '') as file:\n",
        "        writer = csv.writer(file)\n",
        "        writer.writerow([filename, total_frame, waktu, simpanname, tgl])\n",
        "        file.close()\n",
        "      for i in tqdm(range(0,5)) :\n",
        "          time.sleep(1)\n",
        "          if i == 4 :\n",
        "            print(\"\\nselesai\")"
      ],
      "execution_count": null,
      "outputs": []
    },
    {
      "cell_type": "markdown",
      "metadata": {
        "id": "hkuhKABoi9Wl"
      },
      "source": [
        "File Video Yang Akan Diklasifikasi # 1 Video"
      ]
    },
    {
      "cell_type": "code",
      "metadata": {
        "id": "zl9wBt-M2BD1"
      },
      "source": [
        "# #video_ = glob.glob(\"drive/My Drive/datasetdeepfake/Celeb-real/*.mp4\")\n",
        "# video_ = glob.glob(\"drive/My Drive/datasetdeepfake/Celeb-synthesis/*.mp4\")\n",
        "\n",
        "# v = 0\n",
        "# for get in video_ :\n",
        "#     if v == 350 :\n",
        "#         get = get\n",
        "#         get_vid = get\n",
        "#         break;\n",
        "#     v +=1\n",
        "# print(get_vid)\n",
        "\n",
        "#file = \"drive/My Drive/datasetdeepfake/Celeb-synthesis/id0_id1_0003.mp4\" # nama file video\n"
      ],
      "execution_count": null,
      "outputs": []
    },
    {
      "cell_type": "markdown",
      "metadata": {
        "id": "56WnNdVkHR3U"
      },
      "source": [
        "Tentukan Video Yang akan Diklasifikasi # 1 Video"
      ]
    },
    {
      "cell_type": "code",
      "metadata": {
        "id": "6R4ZGZMejqGE"
      },
      "source": [
        "# get_vid = \"drive/My Drive/deepfake/TrumpBeanDeepfake.mp4\"\n",
        "# os.path.isfile(get_vid) \n",
        "# print(get_vid)"
      ],
      "execution_count": null,
      "outputs": []
    },
    {
      "cell_type": "markdown",
      "metadata": {
        "id": "v8thAXXojAs6"
      },
      "source": [
        "Klasifikasi 1 Video"
      ]
    },
    {
      "cell_type": "code",
      "source": [
        "#klasifikasi = klas_vid(get_vid)"
      ],
      "metadata": {
        "id": "P0f5bK-GmUsP"
      },
      "execution_count": null,
      "outputs": []
    },
    {
      "cell_type": "markdown",
      "source": [
        "Klasifikasi Banyak Video"
      ],
      "metadata": {
        "id": "qZtmmV6jmcLd"
      }
    },
    {
      "cell_type": "code",
      "metadata": {
        "colab": {
          "base_uri": "https://localhost:8080/"
        },
        "id": "yixkyKGvv-Zv",
        "outputId": "6f75ce75-ea04-4c5d-e997-576c58766723"
      },
      "source": [
        "\n",
        "video_ = glob.glob(\"drive/My Drive/datasetdeepfake/Celeb-real/*.mp4\")\n",
        "# video_ = glob.glob(\"drive/My Drive/datasetdeepfake/Celeb-synthesis/*.mp4\")\n",
        "\n",
        "v = 0\n",
        "\n",
        "if my_file.is_file():\n",
        "  f = open(my_file, \"w+\")\n",
        "  with open('drive/My Drive/databaru/datatesreal.csv', 'a', newline='') as file:\n",
        "      writer = csv.writer(file)\n",
        "      writer.writerow([\"Nama\", \"Total Frame\", \"Waktu\", \"Hasil\", \"Tanggal\"])\n",
        "  f.close()\n",
        "  pass;\n",
        "else :\n",
        "  with open('drive/My Drive/databaru/datatesreal.csv', 'w', newline = '') as file:\n",
        "      writer = csv.writer(file)\n",
        "      writer.writerow([\"Nama\", \"Total Frame\", \"Waktu\", \"Hasil\", \"Tanggal\"])\n",
        "\n",
        "\n",
        "for get in video_ :\n",
        "  if v >= 350 :\n",
        "    get = get\n",
        "    get_vid = get\n",
        "    print(\"video ke :\",v,\":\",get_vid)\n",
        "    klasifikasi = klass_vid(get_vid)\n",
        "\n",
        "    if v == 359 :\n",
        "      break;\n",
        "  v +=1\n",
        "  "
      ],
      "execution_count": null,
      "outputs": [
        {
          "output_type": "stream",
          "name": "stdout",
          "text": [
            "video ke : 350 : drive/My Drive/datasetdeepfake/Celeb-real/id41_0008.mp4\n",
            "video = drive/My Drive/datasetdeepfake/Celeb-real/id41_0008.mp4\n",
            "Processing.....\n",
            "fps = 30.0\n",
            " \n",
            "total frame : 329\n",
            "Waktu Proses : 551.9218606948853  detik\n",
            "Disimpan : drive/My Drive/deteksi/video_pred/klsf_real_71.77%_id41_0008.mp4\n",
            "Proses Menyimpan.....\n",
            "12/02/21\n"
          ]
        },
        {
          "output_type": "stream",
          "name": "stderr",
          "text": [
            "100%|██████████| 5/5 [00:05<00:00,  1.00s/it]"
          ]
        },
        {
          "output_type": "stream",
          "name": "stdout",
          "text": [
            "\n",
            "selesai\n",
            "video ke : 351 : drive/My Drive/datasetdeepfake/Celeb-real/id51_0004.mp4\n"
          ]
        },
        {
          "output_type": "stream",
          "name": "stderr",
          "text": [
            "\n"
          ]
        },
        {
          "output_type": "stream",
          "name": "stdout",
          "text": [
            "video = drive/My Drive/datasetdeepfake/Celeb-real/id51_0004.mp4\n",
            "Processing.....\n",
            "fps = 29.000007929408085\n",
            " \n",
            "total frame : 447\n",
            "Waktu Proses : 573.108074426651  detik\n",
            "Disimpan : drive/My Drive/deteksi/video_pred/klsf_real_79.26%_id51_0004.mp4\n",
            "Proses Menyimpan.....\n",
            "12/02/21\n"
          ]
        },
        {
          "output_type": "stream",
          "name": "stderr",
          "text": [
            "100%|██████████| 5/5 [00:05<00:00,  1.00s/it]"
          ]
        },
        {
          "output_type": "stream",
          "name": "stdout",
          "text": [
            "\n",
            "selesai\n",
            "video ke : 352 : drive/My Drive/datasetdeepfake/Celeb-real/id38_0006.mp4\n"
          ]
        },
        {
          "output_type": "stream",
          "name": "stderr",
          "text": [
            "\n"
          ]
        },
        {
          "output_type": "stream",
          "name": "stdout",
          "text": [
            "video = drive/My Drive/datasetdeepfake/Celeb-real/id38_0006.mp4\n",
            "Processing.....\n",
            "fps = 30.0\n",
            " \n",
            "total frame : 467\n",
            "Waktu Proses : 451.20520973205566  detik\n",
            "Disimpan : drive/My Drive/deteksi/video_pred/klsf_real_73.64%_id38_0006.mp4\n",
            "Proses Menyimpan.....\n",
            "12/02/21\n"
          ]
        },
        {
          "output_type": "stream",
          "name": "stderr",
          "text": [
            "100%|██████████| 5/5 [00:05<00:00,  1.00s/it]"
          ]
        },
        {
          "output_type": "stream",
          "name": "stdout",
          "text": [
            "\n",
            "selesai\n",
            "video ke : 353 : drive/My Drive/datasetdeepfake/Celeb-real/id46_0004.mp4\n"
          ]
        },
        {
          "output_type": "stream",
          "name": "stderr",
          "text": [
            "\n"
          ]
        },
        {
          "output_type": "stream",
          "name": "stdout",
          "text": [
            "video = drive/My Drive/datasetdeepfake/Celeb-real/id46_0004.mp4\n",
            "Processing.....\n",
            "fps = 30.0\n",
            " \n",
            "total frame : 310\n",
            "Waktu Proses : 283.9836416244507  detik\n",
            "Disimpan : drive/My Drive/deteksi/video_pred/klsf_deepfake_66.46%_id46_0004.mp4\n",
            "Proses Menyimpan.....\n",
            "12/02/21\n"
          ]
        },
        {
          "output_type": "stream",
          "name": "stderr",
          "text": [
            "100%|██████████| 5/5 [00:05<00:00,  1.00s/it]"
          ]
        },
        {
          "output_type": "stream",
          "name": "stdout",
          "text": [
            "\n",
            "selesai\n",
            "video ke : 354 : drive/My Drive/datasetdeepfake/Celeb-real/id41_0004.mp4\n"
          ]
        },
        {
          "output_type": "stream",
          "name": "stderr",
          "text": [
            "\n"
          ]
        },
        {
          "output_type": "stream",
          "name": "stdout",
          "text": [
            "video = drive/My Drive/datasetdeepfake/Celeb-real/id41_0004.mp4\n",
            "Processing.....\n",
            "fps = 30.0\n",
            " \n",
            "total frame : 314\n",
            "Waktu Proses : 293.26193737983704  detik\n",
            "Disimpan : drive/My Drive/deteksi/video_pred/klsf_real_76.16%_id41_0004.mp4\n",
            "Proses Menyimpan.....\n",
            "12/02/21\n"
          ]
        },
        {
          "output_type": "stream",
          "name": "stderr",
          "text": [
            "100%|██████████| 5/5 [00:05<00:00,  1.00s/it]"
          ]
        },
        {
          "output_type": "stream",
          "name": "stdout",
          "text": [
            "\n",
            "selesai\n",
            "video ke : 355 : drive/My Drive/datasetdeepfake/Celeb-real/id45_0004.mp4\n"
          ]
        },
        {
          "output_type": "stream",
          "name": "stderr",
          "text": [
            "\n"
          ]
        },
        {
          "output_type": "stream",
          "name": "stdout",
          "text": [
            "video = drive/My Drive/datasetdeepfake/Celeb-real/id45_0004.mp4\n",
            "Processing.....\n",
            "fps = 30.0\n",
            " \n",
            "total frame : 311\n",
            "Waktu Proses : 288.61111760139465  detik\n",
            "Disimpan : drive/My Drive/deteksi/video_pred/klsf_real_79.24%_id45_0004.mp4\n",
            "Proses Menyimpan.....\n",
            "12/02/21\n"
          ]
        },
        {
          "output_type": "stream",
          "name": "stderr",
          "text": [
            "100%|██████████| 5/5 [00:05<00:00,  1.00s/it]"
          ]
        },
        {
          "output_type": "stream",
          "name": "stdout",
          "text": [
            "\n",
            "selesai\n",
            "video ke : 356 : drive/My Drive/datasetdeepfake/Celeb-real/id37_0004.mp4\n"
          ]
        },
        {
          "output_type": "stream",
          "name": "stderr",
          "text": [
            "\n"
          ]
        },
        {
          "output_type": "stream",
          "name": "stdout",
          "text": [
            "video = drive/My Drive/datasetdeepfake/Celeb-real/id37_0004.mp4\n",
            "Processing.....\n",
            "fps = 30.0\n",
            " \n",
            "total frame : 359\n",
            "Waktu Proses : 338.818240404129  detik\n",
            "Disimpan : drive/My Drive/deteksi/video_pred/klsf_real_79.38%_id37_0004.mp4\n",
            "Proses Menyimpan.....\n",
            "12/02/21\n"
          ]
        },
        {
          "output_type": "stream",
          "name": "stderr",
          "text": [
            "100%|██████████| 5/5 [00:05<00:00,  1.00s/it]"
          ]
        },
        {
          "output_type": "stream",
          "name": "stdout",
          "text": [
            "\n",
            "selesai\n",
            "video ke : 357 : drive/My Drive/datasetdeepfake/Celeb-real/id51_0006.mp4\n"
          ]
        },
        {
          "output_type": "stream",
          "name": "stderr",
          "text": [
            "\n"
          ]
        },
        {
          "output_type": "stream",
          "name": "stdout",
          "text": [
            "video = drive/My Drive/datasetdeepfake/Celeb-real/id51_0006.mp4\n",
            "Processing.....\n",
            "fps = 29.90000900819746\n",
            " \n",
            "total frame : 461\n",
            "Waktu Proses : 439.449711561203  detik\n",
            "Disimpan : drive/My Drive/deteksi/video_pred/klsf_real_74.53%_id51_0006.mp4\n",
            "Proses Menyimpan.....\n",
            "12/02/21\n"
          ]
        },
        {
          "output_type": "stream",
          "name": "stderr",
          "text": [
            "100%|██████████| 5/5 [00:05<00:00,  1.00s/it]"
          ]
        },
        {
          "output_type": "stream",
          "name": "stdout",
          "text": [
            "\n",
            "selesai\n",
            "video ke : 358 : drive/My Drive/datasetdeepfake/Celeb-real/id36_0009.mp4\n"
          ]
        },
        {
          "output_type": "stream",
          "name": "stderr",
          "text": [
            "\n"
          ]
        },
        {
          "output_type": "stream",
          "name": "stdout",
          "text": [
            "video = drive/My Drive/datasetdeepfake/Celeb-real/id36_0009.mp4\n",
            "Processing.....\n",
            "fps = 30.0\n",
            " \n",
            "total frame : 307\n",
            "Waktu Proses : 282.0813283920288  detik\n",
            "Disimpan : drive/My Drive/deteksi/video_pred/klsf_real_87.08%_id36_0009.mp4\n",
            "Proses Menyimpan.....\n",
            "12/02/21\n"
          ]
        },
        {
          "output_type": "stream",
          "name": "stderr",
          "text": [
            "100%|██████████| 5/5 [00:05<00:00,  1.00s/it]"
          ]
        },
        {
          "output_type": "stream",
          "name": "stdout",
          "text": [
            "\n",
            "selesai\n",
            "video ke : 359 : drive/My Drive/datasetdeepfake/Celeb-real/id51_0009.mp4\n"
          ]
        },
        {
          "output_type": "stream",
          "name": "stderr",
          "text": [
            "\n"
          ]
        },
        {
          "output_type": "stream",
          "name": "stdout",
          "text": [
            "video = drive/My Drive/datasetdeepfake/Celeb-real/id51_0009.mp4\n",
            "Processing.....\n",
            "fps = 30.0\n",
            " \n",
            "total frame : 512\n",
            "Waktu Proses : 510.9406313896179  detik\n",
            "Disimpan : drive/My Drive/deteksi/video_pred/klsf_real_67.09%_id51_0009.mp4\n",
            "Proses Menyimpan.....\n",
            "12/02/21\n"
          ]
        },
        {
          "output_type": "stream",
          "name": "stderr",
          "text": [
            "100%|██████████| 5/5 [00:05<00:00,  1.00s/it]"
          ]
        },
        {
          "output_type": "stream",
          "name": "stdout",
          "text": [
            "\n",
            "selesai\n"
          ]
        },
        {
          "output_type": "stream",
          "name": "stderr",
          "text": [
            "\n"
          ]
        }
      ]
    },
    {
      "cell_type": "code",
      "metadata": {
        "colab": {
          "base_uri": "https://localhost:8080/",
          "height": 363
        },
        "id": "CW3kaLp_pCHc",
        "outputId": "9aca17ef-395b-4d26-8865-0945a47dd8cb"
      },
      "source": [
        " import pandas as pd\n",
        "\n",
        "pd.read_csv(\"drive/My Drive/databaru/datatesdeepfakeResNet-50.csv\",usecols=[\"Nama\", \"Total Frame\", \"Waktu\", \"Hasil Rata2\", \"Tanggal\"])"
      ],
      "execution_count": null,
      "outputs": [
        {
          "output_type": "execute_result",
          "data": {
            "text/html": [
              "<div>\n",
              "<style scoped>\n",
              "    .dataframe tbody tr th:only-of-type {\n",
              "        vertical-align: middle;\n",
              "    }\n",
              "\n",
              "    .dataframe tbody tr th {\n",
              "        vertical-align: top;\n",
              "    }\n",
              "\n",
              "    .dataframe thead th {\n",
              "        text-align: right;\n",
              "    }\n",
              "</style>\n",
              "<table border=\"1\" class=\"dataframe\">\n",
              "  <thead>\n",
              "    <tr style=\"text-align: right;\">\n",
              "      <th></th>\n",
              "      <th>Nama</th>\n",
              "      <th>Total Frame</th>\n",
              "      <th>Waktu</th>\n",
              "      <th>Hasil Rata2</th>\n",
              "      <th>Tanggal</th>\n",
              "    </tr>\n",
              "  </thead>\n",
              "  <tbody>\n",
              "    <tr>\n",
              "      <th>0</th>\n",
              "      <td>id21_id25_0008.mp4</td>\n",
              "      <td>322</td>\n",
              "      <td>738.725894</td>\n",
              "      <td>deepfake_66.96%_</td>\n",
              "      <td>12/01/21</td>\n",
              "    </tr>\n",
              "    <tr>\n",
              "      <th>1</th>\n",
              "      <td>id53_id50_0005.mp4</td>\n",
              "      <td>466</td>\n",
              "      <td>642.369837</td>\n",
              "      <td>deepfake_73.60%_</td>\n",
              "      <td>12/01/21</td>\n",
              "    </tr>\n",
              "    <tr>\n",
              "      <th>2</th>\n",
              "      <td>id31_id26_0006.mp4</td>\n",
              "      <td>365</td>\n",
              "      <td>357.471821</td>\n",
              "      <td>deepfake_77.81%_</td>\n",
              "      <td>12/01/21</td>\n",
              "    </tr>\n",
              "    <tr>\n",
              "      <th>3</th>\n",
              "      <td>id53_id56_0009.mp4</td>\n",
              "      <td>451</td>\n",
              "      <td>432.906776</td>\n",
              "      <td>real_72.69%_</td>\n",
              "      <td>12/01/21</td>\n",
              "    </tr>\n",
              "    <tr>\n",
              "      <th>4</th>\n",
              "      <td>id37_id4_0007.mp4</td>\n",
              "      <td>473</td>\n",
              "      <td>466.230234</td>\n",
              "      <td>real_65.68%_</td>\n",
              "      <td>12/01/21</td>\n",
              "    </tr>\n",
              "    <tr>\n",
              "      <th>5</th>\n",
              "      <td>id3_id37_0007.mp4</td>\n",
              "      <td>361</td>\n",
              "      <td>344.741217</td>\n",
              "      <td>real_71.76%_</td>\n",
              "      <td>12/01/21</td>\n",
              "    </tr>\n",
              "    <tr>\n",
              "      <th>6</th>\n",
              "      <td>id0_id2_0008.mp4</td>\n",
              "      <td>464</td>\n",
              "      <td>451.561153</td>\n",
              "      <td>deepfake_86.23%_</td>\n",
              "      <td>12/01/21</td>\n",
              "    </tr>\n",
              "    <tr>\n",
              "      <th>7</th>\n",
              "      <td>id41_id47_0008.mp4</td>\n",
              "      <td>329</td>\n",
              "      <td>317.516426</td>\n",
              "      <td>deepfake_68.12%_</td>\n",
              "      <td>12/01/21</td>\n",
              "    </tr>\n",
              "    <tr>\n",
              "      <th>8</th>\n",
              "      <td>id50_id55_0007.mp4</td>\n",
              "      <td>437</td>\n",
              "      <td>424.043643</td>\n",
              "      <td>real_67.32%_</td>\n",
              "      <td>12/01/21</td>\n",
              "    </tr>\n",
              "    <tr>\n",
              "      <th>9</th>\n",
              "      <td>id1_id30_0004.mp4</td>\n",
              "      <td>409</td>\n",
              "      <td>350.732740</td>\n",
              "      <td>deepfake_71.65%_</td>\n",
              "      <td>12/01/21</td>\n",
              "    </tr>\n",
              "  </tbody>\n",
              "</table>\n",
              "</div>"
            ],
            "text/plain": [
              "                 Nama  Total Frame       Waktu       Hasil Rata2   Tanggal\n",
              "0  id21_id25_0008.mp4          322  738.725894  deepfake_66.96%_  12/01/21\n",
              "1  id53_id50_0005.mp4          466  642.369837  deepfake_73.60%_  12/01/21\n",
              "2  id31_id26_0006.mp4          365  357.471821  deepfake_77.81%_  12/01/21\n",
              "3  id53_id56_0009.mp4          451  432.906776      real_72.69%_  12/01/21\n",
              "4   id37_id4_0007.mp4          473  466.230234      real_65.68%_  12/01/21\n",
              "5   id3_id37_0007.mp4          361  344.741217      real_71.76%_  12/01/21\n",
              "6    id0_id2_0008.mp4          464  451.561153  deepfake_86.23%_  12/01/21\n",
              "7  id41_id47_0008.mp4          329  317.516426  deepfake_68.12%_  12/01/21\n",
              "8  id50_id55_0007.mp4          437  424.043643      real_67.32%_  12/01/21\n",
              "9   id1_id30_0004.mp4          409  350.732740  deepfake_71.65%_  12/01/21"
            ]
          },
          "metadata": {},
          "execution_count": 6
        }
      ]
    },
    {
      "cell_type": "code",
      "metadata": {
        "colab": {
          "background_save": true
        },
        "id": "ynMBPG-q5Ugm"
      },
      "source": [
        ""
      ],
      "execution_count": null,
      "outputs": []
    }
  ]
}